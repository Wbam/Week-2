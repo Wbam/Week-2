{
 "cells": [
  {
   "cell_type": "markdown",
   "metadata": {},
   "source": [
    "<span style=\"font-size: 36px;\">Task 4.1</span>"
   ]
  },
  {
   "cell_type": "code",
   "execution_count": 14,
   "metadata": {},
   "outputs": [],
   "source": [
    "from sklearn.cluster import KMeans\n",
    "from sklearn.preprocessing import StandardScaler\n",
    "import pandas as pd\n",
    "from scipy.spatial.distance import euclidean\n",
    "\n",
    "customer_agg = pd.read_csv('C:/Users/User/Desktop/Week-2/notebooks/customer_aggregated_data.csv')\n",
    "\n",
    "engagement_features = customer_agg[['TCP_retransmission', 'RTT', 'throughput']]\n",
    "\n",
    "scaler = StandardScaler()\n",
    "scaled_engagement_features = scaler.fit_transform(engagement_features)\n",
    "\n",
    "kmeans_engagement = KMeans(n_clusters=3, random_state=42)\n",
    "customer_agg['Engagement_Cluster'] = kmeans_engagement.fit_predict(scaled_engagement_features)\n",
    "\n",
    "engagement_centroids = kmeans_engagement.cluster_centers_\n",
    "\n",
    "engagement_centroids = scaler.inverse_transform(engagement_centroids)\n",
    "\n",
    "engagement_centroids_df = pd.DataFrame(engagement_centroids, columns=['TCP_retransmission', 'RTT', 'throughput'])\n",
    "engagement_centroids_df['cluster_id'] = range(len(engagement_centroids))\n",
    "engagement_centroids_df.to_csv('engagement_clusters.csv', index=False)\n"
   ]
  },
  {
   "cell_type": "code",
   "execution_count": 15,
   "metadata": {},
   "outputs": [],
   "source": [
    "experience_features = customer_agg[['TCP_retransmission', 'RTT', 'throughput']]\n",
    "\n",
    "scaled_experience_features = scaler.transform(experience_features)\n",
    "\n",
    "kmeans_experience = KMeans(n_clusters=3, random_state=42)\n",
    "customer_agg['Experience_Cluster'] = kmeans_experience.fit_predict(scaled_experience_features)\n",
    "\n",
    "experience_centroids = kmeans_experience.cluster_centers_\n",
    "\n",
    "experience_centroids = scaler.inverse_transform(experience_centroids)\n",
    "\n",
    "experience_centroids_df = pd.DataFrame(experience_centroids, columns=['TCP_retransmission', 'RTT', 'throughput'])\n",
    "experience_centroids_df['cluster_id'] = range(len(experience_centroids))\n",
    "experience_centroids_df.to_csv('experience_clusters.csv', index=False)\n"
   ]
  },
  {
   "cell_type": "code",
   "execution_count": 16,
   "metadata": {},
   "outputs": [
    {
     "name": "stdout",
     "output_type": "stream",
     "text": [
      "        MSISDN/Number  engagement_score  experience_score  satisfaction_score\n",
      "0        3.360100e+10      6.150567e+06      7.272307e+06        6.711437e+06\n",
      "1        3.360100e+10      6.150567e+06      7.272307e+06        6.711437e+06\n",
      "2        3.360100e+10      6.150567e+06      7.272307e+06        6.711437e+06\n",
      "3        3.360101e+10      4.253860e+06      3.132209e+06        3.693035e+06\n",
      "4        3.360101e+10      3.100898e+06      4.222598e+06        3.661748e+06\n",
      "...               ...               ...               ...                 ...\n",
      "106851   3.379000e+10      4.525198e+06      3.403518e+06        3.964358e+06\n",
      "106852   3.379000e+10      6.150567e+06      7.272307e+06        6.711437e+06\n",
      "106853   3.197021e+12      6.150567e+06      7.272307e+06        6.711437e+06\n",
      "106854   3.370000e+14      6.150567e+06      7.272307e+06        6.711437e+06\n",
      "106855   8.823971e+14      6.150567e+06      7.272307e+06        6.711437e+06\n",
      "\n",
      "[106856 rows x 4 columns]\n"
     ]
    }
   ],
   "source": [
    "engagement_centroids = pd.read_csv('engagement_clusters.csv')\n",
    "experience_centroids = pd.read_csv('experience_clusters.csv')\n",
    "\n",
    "less_engaged_cluster = 0  # Example cluster ID, replace with actual ID\n",
    "worst_experience_cluster = 2  # Example cluster ID, replace with actual ID\n",
    "\n",
    "less_engaged_centroid = engagement_centroids.loc[engagement_centroids['cluster_id'] == less_engaged_cluster].drop(columns='cluster_id').values.flatten()\n",
    "worst_experience_centroid = experience_centroids.loc[experience_centroids['cluster_id'] == worst_experience_cluster].drop(columns='cluster_id').values.flatten()\n",
    "\n",
    "def calculate_score(row, centroid):\n",
    "    return euclidean(row, centroid)\n",
    "\n",
    "customer_agg['engagement_score'] = customer_agg[['TCP_retransmission', 'RTT', 'throughput']].apply(lambda row: calculate_score(row, less_engaged_centroid), axis=1)\n",
    "customer_agg['experience_score'] = customer_agg[['TCP_retransmission', 'RTT', 'throughput']].apply(lambda row: calculate_score(row, worst_experience_centroid), axis=1)\n",
    "\n",
    "customer_agg['satisfaction_score'] = (customer_agg['engagement_score'] + customer_agg['experience_score']) / 2\n",
    "\n",
    "print(customer_agg[['MSISDN/Number', 'engagement_score', 'experience_score', 'satisfaction_score']])\n",
    "\n"
   ]
  },
  {
   "cell_type": "markdown",
   "metadata": {},
   "source": [
    "<span style=\"font-size: 36px;\">Task 4.2</span>"
   ]
  },
  {
   "cell_type": "code",
   "execution_count": 30,
   "metadata": {},
   "outputs": [
    {
     "name": "stdout",
     "output_type": "stream",
     "text": [
      "          bearer_id  satisfaction_score\n",
      "3484   7.277826e+18         860409912.5\n",
      "13330  7.277826e+18         858767523.5\n",
      "1088   1.304243e+19         856044013.5\n",
      "290    1.304243e+19         854750593.5\n",
      "3731   1.304243e+19         852049470.0\n",
      "10207  1.304243e+19         851051619.5\n",
      "9499   1.304243e+19         848894767.0\n",
      "12304  7.277826e+18         844423219.0\n",
      "11097  1.304243e+19         844046078.0\n",
      "4778   1.304243e+19         843055114.0\n"
     ]
    }
   ],
   "source": [
    "import pandas as pd\n",
    "\n",
    "user_scores = pd.read_csv('C:/Users/User/Desktop/10/data-2/Week2_challenge_data_source_cleaned.csv')\n",
    "\n",
    "user_scores['engagement_score'] = (user_scores['social_media_dl_(bytes)'] + \n",
    "                                    user_scores['google_dl_(bytes)'] + \n",
    "                                    user_scores['email_dl_(bytes)'] + \n",
    "                                    user_scores['youtube_dl_(bytes)'] + \n",
    "                                    user_scores['netflix_dl_(bytes)'] + \n",
    "                                    user_scores['gaming_dl_(bytes)'] + \n",
    "                                    user_scores['other_dl_(bytes)'])\n",
    "\n",
    "user_scores['experience_score'] = (user_scores['avg_bearer_tp_dl_(kbps)'] - \n",
    "                                    user_scores['avg_rtt_dl_(ms)'])  # Simple example\n",
    "\n",
    "user_scores['satisfaction_score'] = (user_scores['engagement_score'] + user_scores['experience_score']) / 2\n",
    "\n",
    "top_10_satisfied = user_scores.nlargest(10, 'satisfaction_score')\n",
    "\n",
    "print(top_10_satisfied[['bearer_id', 'satisfaction_score']])\n"
   ]
  }
 ],
 "metadata": {
  "kernelspec": {
   "display_name": "myenv",
   "language": "python",
   "name": "python3"
  },
  "language_info": {
   "codemirror_mode": {
    "name": "ipython",
    "version": 3
   },
   "file_extension": ".py",
   "mimetype": "text/x-python",
   "name": "python",
   "nbconvert_exporter": "python",
   "pygments_lexer": "ipython3",
   "version": "3.10.14"
  }
 },
 "nbformat": 4,
 "nbformat_minor": 2
}
