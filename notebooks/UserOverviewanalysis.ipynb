{
 "cells": [
  {
   "cell_type": "code",
   "execution_count": 34,
   "metadata": {},
   "outputs": [
    {
     "name": "stdout",
     "output_type": "stream",
     "text": [
      "      Bearer Id            Start  Start ms              End  End ms  \\\n",
      "0  1.311448e+19   4/4/2019 12:01     770.0  4/25/2019 14:35   662.0   \n",
      "1  1.311448e+19   4/9/2019 13:04     235.0   4/25/2019 8:15   606.0   \n",
      "2  1.311448e+19   4/9/2019 17:42       1.0  4/25/2019 11:58   652.0   \n",
      "3  1.311448e+19   4/10/2019 0:31     486.0   4/25/2019 7:36   171.0   \n",
      "4  1.311448e+19  4/12/2019 20:10     565.0  4/25/2019 10:40   954.0   \n",
      "\n",
      "   Dur. (ms)          IMSI  MSISDN/Number          IMEI  \\\n",
      "0  1823652.0  2.082014e+14   3.366496e+10  3.552121e+13   \n",
      "1  1365104.0  2.082019e+14   3.368185e+10  3.579401e+13   \n",
      "2  1361762.0  2.082003e+14   3.376063e+10  3.528151e+13   \n",
      "3  1321509.0  2.082014e+14   3.375034e+10  3.535661e+13   \n",
      "4  1089009.0  2.082014e+14   3.369980e+10  3.540701e+13   \n",
      "\n",
      "      Last Location Name  ...  Youtube DL (Bytes)  Youtube UL (Bytes)  \\\n",
      "0  9.16456699548519E+015  ...          15854611.0           2501332.0   \n",
      "1                L77566A  ...          20247395.0          19111729.0   \n",
      "2                D42335A  ...          19725661.0          14699576.0   \n",
      "3                T21824A  ...          21388122.0          15146643.0   \n",
      "4                D88865A  ...          15259380.0          18962873.0   \n",
      "\n",
      "   Netflix DL (Bytes)  Netflix UL (Bytes)  Gaming DL (Bytes)  \\\n",
      "0           8198936.0           9656251.0        278082303.0   \n",
      "1          18338413.0          17227132.0        608750074.0   \n",
      "2          17587794.0           6163408.0        229584621.0   \n",
      "3          13994646.0           1097942.0        799538153.0   \n",
      "4          17124581.0            415218.0        527707248.0   \n",
      "\n",
      "   Gaming UL (Bytes)  Other DL (Bytes)  Other UL (Bytes)  Total UL (Bytes)  \\\n",
      "0         14344150.0       171744450.0         8814393.0        36749741.0   \n",
      "1          1170709.0       526904238.0        15055145.0        53800391.0   \n",
      "2           395630.0       410692588.0         4215763.0        27883638.0   \n",
      "3         10849722.0       749039933.0        12797283.0        43324218.0   \n",
      "4          3529801.0       550709500.0        13910322.0        38542814.0   \n",
      "\n",
      "   Total DL (Bytes)  \n",
      "0       308879636.0  \n",
      "1       653384965.0  \n",
      "2       279807335.0  \n",
      "3       846028530.0  \n",
      "4       569138589.0  \n",
      "\n",
      "[5 rows x 55 columns]\n"
     ]
    }
   ],
   "source": [
    "import pandas as pd\n",
    "df = pd.read_csv('C:/Users/User/Desktop/10/data-2/Week2_challenge_data_source(CSV).csv')\n",
    "\n",
    "print(df.head())"
   ]
  },
  {
   "cell_type": "markdown",
   "metadata": {},
   "source": [
    "<span style=\"font-size: 36px;\">Task 1.1</span>"
   ]
  },
  {
   "cell_type": "code",
   "execution_count": 35,
   "metadata": {},
   "outputs": [
    {
     "name": "stdout",
     "output_type": "stream",
     "text": [
      "Sample of records with duplicated 'Bearer Id':\n",
      "        Bearer Id            Start  Start ms             End  End ms  \\\n",
      "20  1.304243e+19   4/17/2019 0:35     363.0  4/25/2019 4:52   691.0   \n",
      "30  1.304243e+19   4/18/2019 0:35     711.0  4/25/2019 4:52   691.0   \n",
      "43  1.304243e+19   4/19/2019 2:55     809.0  4/25/2019 0:17   262.0   \n",
      "50  1.304243e+19   4/20/2019 2:55     691.0  4/25/2019 0:17   262.0   \n",
      "58  7.277826e+18  4/20/2019 14:08     136.0  4/25/2019 0:54    79.0   \n",
      "62  1.304243e+19   4/21/2019 2:55      73.0  4/25/2019 0:17   262.0   \n",
      "63  1.304243e+19   4/21/2019 3:04     521.0  4/25/2019 4:02   116.0   \n",
      "72  7.277826e+18  4/21/2019 13:57     724.0  4/25/2019 0:54    79.0   \n",
      "82  1.304243e+19   4/22/2019 0:35     293.0  4/25/2019 0:35    30.0   \n",
      "84  1.304243e+19   4/22/2019 1:17     301.0  4/25/2019 1:17   938.0   \n",
      "\n",
      "    Dur. (ms)          IMSI  MSISDN/Number          IMEI Last Location Name  \\\n",
      "20   706649.0  2.082010e+14   3.365875e+10  8.654080e+13            T29714B   \n",
      "30   620248.0  2.082010e+14   3.365875e+10  8.654080e+13            T29714B   \n",
      "43   508961.0  2.082018e+14   3.376353e+10  8.637690e+13            D72939C   \n",
      "50   422560.0  2.082018e+14   3.376353e+10  8.637690e+13            D72939C   \n",
      "58   384341.0  2.082095e+14   3.366913e+10  3.540531e+13            T86956A   \n",
      "62   336160.0  2.082018e+14   3.376353e+10  8.637690e+13            D72939C   \n",
      "63   349066.0  2.082014e+14   3.369943e+10  8.637690e+13            T70307A   \n",
      "72   298626.0  2.082095e+14   3.366913e+10  3.540531e+13            T86956A   \n",
      "82   259201.0  2.082014e+14   3.366135e+10  8.654080e+13            D77586B   \n",
      "84   259201.0  2.082014e+14   3.366555e+10  8.637690e+13            T85779A   \n",
      "\n",
      "    ...  Youtube DL (Bytes)  Youtube UL (Bytes)  Netflix DL (Bytes)  \\\n",
      "20  ...          15782415.0           9688165.0          18625220.0   \n",
      "30  ...           1843883.0          15098966.0          12173853.0   \n",
      "43  ...          12768206.0          11205276.0          10818260.0   \n",
      "50  ...          16006629.0          19493910.0          12084616.0   \n",
      "58  ...           7758278.0           2690075.0           4193579.0   \n",
      "62  ...          22833724.0          10951633.0          18426843.0   \n",
      "63  ...           7536861.0           3074461.0          19940368.0   \n",
      "72  ...           6740872.0           3322553.0          14288648.0   \n",
      "82  ...          13426915.0           3927135.0          22600559.0   \n",
      "84  ...             69288.0          19177045.0          10783199.0   \n",
      "\n",
      "    Netflix UL (Bytes)  Gaming DL (Bytes)  Gaming UL (Bytes)  \\\n",
      "20          14679856.0        373953102.0           574875.0   \n",
      "30          10598373.0        366103099.0         13276512.0   \n",
      "43           6970736.0        363762694.0          5186208.0   \n",
      "50           4858682.0        649474879.0          4900228.0   \n",
      "58           7356758.0        551768053.0          2333567.0   \n",
      "62           8632677.0        576998244.0          9724918.0   \n",
      "63           1547055.0        131650436.0           466026.0   \n",
      "72           2003842.0        828682481.0         11918077.0   \n",
      "82           7052896.0         41301214.0          4605637.0   \n",
      "84           8000048.0        496879416.0          1530545.0   \n",
      "\n",
      "    Other DL (Bytes)  Other UL (Bytes)  Total UL (Bytes)  Total DL (Bytes)  \n",
      "20       161357015.0          134689.0        26026033.0       422406937.0  \n",
      "30       195717525.0        14209340.0        55015623.0       386320481.0  \n",
      "43       767346215.0        11242030.0        35473940.0       396196374.0  \n",
      "50       727173102.0         6679677.0        39034473.0       685149296.0  \n",
      "58         4652246.0         9798236.0        26252398.0       572918026.0  \n",
      "62       446979790.0        14067203.0        46797611.0       632600264.0  \n",
      "63       436302356.0         6262770.0        12881926.0       164312589.0  \n",
      "72       543039111.0        10996641.0        32244625.0       863513434.0  \n",
      "82       422321517.0          385786.0        18520440.0        83017641.0  \n",
      "84       247233250.0         1175435.0        33314765.0       519351173.0  \n",
      "\n",
      "[10 rows x 55 columns]\n",
      "\n",
      "Duration analysis for each duplicated 'Bearer Id':\n",
      "               count      mean           std       min        25%       50%  \\\n",
      "Bearer Id                                                                    \n",
      "6.917538e+18    2.0  160581.0   5194.406415  156908.0  158744.50  160581.0   \n",
      "6.917538e+18    2.0   50765.0  50408.228217   15121.0   32943.00   50765.0   \n",
      "6.917538e+18    2.0   86381.5     24.748737   86364.0   86372.75   86381.5   \n",
      "6.917538e+18    2.0   23875.5      2.121320   23874.0   23874.75   23875.5   \n",
      "6.917538e+18    2.0   20594.0   9940.507130   13565.0   17079.50   20594.0   \n",
      "...             ...       ...           ...       ...        ...       ...   \n",
      "1.311448e+19    2.0   98079.5    239.709199   97910.0   97994.75   98079.5   \n",
      "1.311448e+19    3.0  259207.0  86404.000000  172803.0  216005.00  259207.0   \n",
      "1.311448e+19    2.0  156784.0  35539.186822  131654.0  144219.00  156784.0   \n",
      "1.311448e+19    2.0  215844.0  61095.440108  172643.0  194243.50  215844.0   \n",
      "1.318654e+19    2.0  105055.5    168.998521  104936.0  104995.75  105055.5   \n",
      "\n",
      "                    75%       max  \n",
      "Bearer Id                          \n",
      "6.917538e+18  162417.50  164254.0  \n",
      "6.917538e+18   68587.00   86409.0  \n",
      "6.917538e+18   86390.25   86399.0  \n",
      "6.917538e+18   23876.25   23877.0  \n",
      "6.917538e+18   24108.50   27623.0  \n",
      "...                 ...       ...  \n",
      "1.311448e+19   98164.25   98249.0  \n",
      "1.311448e+19  302409.00  345611.0  \n",
      "1.311448e+19  169349.00  181914.0  \n",
      "1.311448e+19  237444.50  259045.0  \n",
      "1.318654e+19  105115.25  105175.0  \n",
      "\n",
      "[11748 rows x 8 columns]\n",
      "\n",
      "Aggregated data for each duplicated 'Bearer Id':\n",
      "       Bearer Id  Dur. (ms)  Total UL (Bytes)  Total DL (Bytes)\n",
      "0  6.917538e+18   321162.0       103530280.0      8.395617e+08\n",
      "1  6.917538e+18   101530.0       111498190.0      1.447012e+09\n",
      "2  6.917538e+18   172763.0        71585097.0      4.931508e+08\n",
      "3  6.917538e+18    47751.0        43590924.0      8.511657e+08\n",
      "4  6.917538e+18    41188.0        86436436.0      1.124496e+09\n"
     ]
    }
   ],
   "source": [
    "\n",
    "# Identify duplicated 'Bearer Id' values\n",
    "duplicate_bearer_ids = df['Bearer Id'].value_counts()[df['Bearer Id'].value_counts() > 1]\n",
    "\n",
    "duplicates_sample = df[df['Bearer Id'].isin(duplicate_bearer_ids.index)].head(10)\n",
    "print(\"Sample of records with duplicated 'Bearer Id':\\n\", duplicates_sample)\n",
    "\n",
    "duration_analysis = df[df['Bearer Id'].isin(duplicate_bearer_ids.index)]\n",
    "duration_stats = duration_analysis.groupby('Bearer Id')['Dur. (ms)'].describe()\n",
    "print(\"\\nDuration analysis for each duplicated 'Bearer Id':\\n\", duration_stats)\n",
    "\n",
    "aggregated_data = duration_analysis.groupby('Bearer Id').agg({\n",
    "    'Dur. (ms)': 'sum',\n",
    "    'Total UL (Bytes)': 'sum',\n",
    "    'Total DL (Bytes)': 'sum',\n",
    "}).reset_index()\n",
    "\n",
    "print(\"\\nAggregated data for each duplicated 'Bearer Id':\\n\", aggregated_data.head())\n"
   ]
  },
  {
   "cell_type": "markdown",
   "metadata": {},
   "source": [
    "<span style=\"font-size: 30px;\">Number of xDR sessions</span>"
   ]
  },
  {
   "cell_type": "code",
   "execution_count": 36,
   "metadata": {},
   "outputs": [
    {
     "name": "stdout",
     "output_type": "stream",
     "text": [
      "Number of xDR sessions per user:\n",
      "            IMSI  Number of xDR Sessions\n",
      "0  2.040471e+14                       1\n",
      "1  2.040808e+14                       1\n",
      "2  2.082001e+14                       1\n",
      "3  2.082001e+14                       1\n",
      "4  2.082001e+14                       2\n"
     ]
    }
   ],
   "source": [
    "\n",
    "xdr_sessions_per_user = df.groupby('IMSI')['Bearer Id'].count().reset_index()\n",
    "xdr_sessions_per_user.columns = ['IMSI', 'Number of xDR Sessions']\n",
    "\n",
    "print(\"Number of xDR sessions per user:\\n\", xdr_sessions_per_user.head())\n"
   ]
  },
  {
   "cell_type": "markdown",
   "metadata": {},
   "source": [
    "<span style=\"font-size: 30px;\">Session duration</span>"
   ]
  },
  {
   "cell_type": "code",
   "execution_count": 38,
   "metadata": {},
   "outputs": [
    {
     "name": "stdout",
     "output_type": "stream",
     "text": [
      "Aggregated session duration per user:\n",
      "       Bearer Id  Total Session Duration (ms)\n",
      "0  6.917538e+18                      24534.0\n",
      "1  6.917538e+18                      21489.0\n",
      "2  6.917538e+18                      27786.0\n",
      "3  6.917538e+18                      15635.0\n",
      "4  6.917538e+18                      24264.0\n"
     ]
    }
   ],
   "source": [
    "aggregated_data = df.groupby('Bearer Id')['Dur. (ms)'].sum().reset_index()\n",
    "\n",
    "aggregated_data.columns = ['Bearer Id', 'Total Session Duration (ms)']\n",
    "\n",
    "print(\"Aggregated session duration per user:\\n\", aggregated_data.head())"
   ]
  },
  {
   "cell_type": "markdown",
   "metadata": {},
   "source": [
    "<span style=\"font-size: 30px;\">The total download (DL) and upload (UL) data</span>"
   ]
  },
  {
   "cell_type": "code",
   "execution_count": 39,
   "metadata": {},
   "outputs": [
    {
     "name": "stdout",
     "output_type": "stream",
     "text": [
      "Aggregated total download and upload data per user:\n",
      "       Bearer Id  Total Download Data (Bytes)  Total Upload Data (Bytes)\n",
      "0  6.917538e+18                  500721999.0                 41704610.0\n",
      "1  6.917538e+18                  709549265.0                 38693596.0\n",
      "2  6.917538e+18                  854465860.0                 15548926.0\n",
      "3  6.917538e+18                  825786510.0                 49605688.0\n",
      "4  6.917538e+18                  624957763.0                 21983463.0\n"
     ]
    }
   ],
   "source": [
    "aggregated_data = df.groupby('Bearer Id').agg({\n",
    "    'Total DL (Bytes)': 'sum',\n",
    "    'Total UL (Bytes)': 'sum'\n",
    "}).reset_index()\n",
    "\n",
    "aggregated_data.columns = ['Bearer Id', 'Total Download Data (Bytes)', 'Total Upload Data (Bytes)']\n",
    "\n",
    "print(\"Aggregated total download and upload data per user:\\n\", aggregated_data.head())"
   ]
  }
 ],
 "metadata": {
  "kernelspec": {
   "display_name": "Python 3",
   "language": "python",
   "name": "python3"
  },
  "language_info": {
   "codemirror_mode": {
    "name": "ipython",
    "version": 3
   },
   "file_extension": ".py",
   "mimetype": "text/x-python",
   "name": "python",
   "nbconvert_exporter": "python",
   "pygments_lexer": "ipython3",
   "version": "3.10.14"
  }
 },
 "nbformat": 4,
 "nbformat_minor": 2
}
